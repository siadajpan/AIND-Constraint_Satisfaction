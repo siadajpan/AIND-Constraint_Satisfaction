{
 "cells": [
  {
   "cell_type": "markdown",
   "metadata": {},
   "source": [
    "# Warmup - Introduction to SymPy\n",
    "This lab exercise uses the [SymPy](http://www.sympy.org/en/index.html) symbolic math library to model constraints in the problem.  To do that, we will use symbols (`sympy.Symbol`), functions (`sympy.Function`), and expressions (`sympy.Expr`) from sympy, and then we'll combine the function and expression classes to make constraints -- evaluatable symbolic functions.\n",
    "\n",
    "In this warmup, you will be introduced to the syntax and functionality of SymPy:\n",
    "- [Example 1](#Example-1:-Symbols): Creating [symbols](http://docs.sympy.org/dev/modules/core.html#module-sympy.core.symbol)\n",
    "- [Example 2](#Example-2:-Expressions): Creating & manipulating [expressions](http://docs.sympy.org/dev/modules/core.html#id16) with [arithmetic & logical operators](http://docs.sympy.org/dev/modules/core.html#sympy-core)\n",
    "- [Example 3](#Example-3:-Symbolic-substitution-and-expression-evaluation): Symbolic [substitution & evaluation](http://docs.sympy.org/dev/modules/core.html#subs)\n",
    "- [Exercises](#SymPy-Exercises): Creating & manipulating constraints & [functions](http://docs.sympy.org/dev/modules/functions/index.html)\n",
    "\n",
    "(See a list of common \"gotchas\" for sympy in their documentation: http://docs.sympy.org/dev/gotchas.html)\n",
    "\n",
    "Start by reading and running the example cells, then complete the steps in the warmup cell."
   ]
  },
  {
   "cell_type": "code",
   "execution_count": 2,
   "metadata": {},
   "outputs": [],
   "source": [
    "import matplotlib as mpl\n",
    "import matplotlib.pyplot as plt\n",
    "\n",
    "from util import constraint\n",
    "from IPython.display import display\n",
    "from sympy import *\n",
    "init_printing()"
   ]
  },
  {
   "cell_type": "markdown",
   "metadata": {},
   "source": [
    "## Example 1: Symbols\n",
    "**Sympy provides the `Symbol` class to create symbolic variables.  Create individual symbols by calling the constructor with a symbol name.**  (Tip: Use the `display()` function to pretty-print symbolic terms.)"
   ]
  },
  {
   "cell_type": "code",
   "execution_count": 3,
   "metadata": {},
   "outputs": [
    {
     "data": {
      "image/png": "[encoded data removed]",
      "text/latex": [
       "$$x$$"
      ],
      "text/plain": [
       "x"
      ]
     },
     "metadata": {},
     "output_type": "display_data"
    }
   ],
   "source": [
    "x = Symbol('x')\n",
    "display(x)"
   ]
  },
  {
   "cell_type": "markdown",
   "metadata": {},
   "source": [
    "**You can also create symbols from an iterable sequence using the `symbols()` function.**"
   ]
  },
  {
   "cell_type": "code",
   "execution_count": 11,
   "metadata": {},
   "outputs": [
    {
     "data": {
      "image/png": "[encoded data removed]",
      "text/latex": [
       "$$\\left ( i, \\quad j, \\quad k\\right )$$"
      ],
      "text/plain": [
       "(i, j, k)"
      ]
     },
     "metadata": {},
     "output_type": "display_data"
    }
   ],
   "source": [
    "i, j, k = symbols(['i', 'j', 'k'])\n",
    "display((i, j, k))"
   ]
  },
  {
   "cell_type": "markdown",
   "metadata": {},
   "source": [
    "**`symbols()` can also create subscripted sequences of symbolic variables.**"
   ]
  },
  {
   "cell_type": "code",
   "execution_count": 9,
   "metadata": {},
   "outputs": [
    {
     "data": {
      "image/png": "[encoded data removed]",
      "text/latex": [
       "$$\\left ( X_{0}, \\quad X_{1}, \\quad X_{2}\\right )$$"
      ],
      "text/plain": [
       "(X₀, X₁, X₂)"
      ]
     },
     "metadata": {},
     "output_type": "display_data"
    }
   ],
   "source": [
    "X = symbols('X:3')\n",
    "display(X)"
   ]
  },
  {
   "cell_type": "markdown",
   "metadata": {},
   "source": [
    "## Example 2: Expressions\n",
    "\n",
    "**A symbol is the most basic expression.**  (Tip: Jupyter notebooks show information about objects\n",
    "using the `?` magic function)"
   ]
  },
  {
   "cell_type": "code",
   "execution_count": 16,
   "metadata": {},
   "outputs": [
    {
     "data": {
      "image/png": "[encoded data removed]",
      "text/latex": [
       "$$k$$"
      ],
      "text/plain": [
       "k"
      ]
     },
     "metadata": {},
     "output_type": "display_data"
    }
   ],
   "source": [
    "k = Symbol('k')\n",
    "k?\n",
    "display(k)"
   ]
  },
  {
   "cell_type": "markdown",
   "metadata": {},
   "source": [
    "**You can also define expressions with relations between symbols.** (However, notice that expressions have no _names_...)"
   ]
  },
  {
   "cell_type": "code",
   "execution_count": 17,
   "metadata": {},
   "outputs": [
    {
     "data": {
      "image/png": "[encoded data removed]",
      "text/latex": [
       "$$x \\vee y$$"
      ],
      "text/plain": [
       "x ∨ y"
      ]
     },
     "metadata": {},
     "output_type": "display_data"
    }
   ],
   "source": [
    "x, y = symbols('x y')\n",
    "or_relation = x | y\n",
    "or_relation?\n",
    "display(or_relation)"
   ]
  },
  {
   "cell_type": "markdown",
   "metadata": {},
   "source": [
    "**Also, not all operators can be used in expressions.  The equal sign (=) performs assignment in python, so it cannot be used to make expressions.  Using `=` assigns a new python variable to an existing reference.**"
   ]
  },
  {
   "cell_type": "code",
   "execution_count": 18,
   "metadata": {},
   "outputs": [
    {
     "data": {
      "image/png": "[encoded data removed]",
      "text/latex": [
       "$$x$$"
      ],
      "text/plain": [
       "x"
      ]
     },
     "metadata": {},
     "output_type": "display_data"
    }
   ],
   "source": [
    "x, y = symbols(\"x y\")\n",
    "y = x   # now y references the same symbolic object as x\n",
    "display(y)  # display(y) == x  ??!"
   ]
  },
  {
   "cell_type": "markdown",
   "metadata": {},
   "source": [
    "**Use `sympy.Eq` for symbolic equality expressions:** (Tip: there are lots of expressions in the [sympy docs](http://docs.sympy.org/dev/modules/core.html#sympy-core))"
   ]
  },
  {
   "cell_type": "code",
   "execution_count": 21,
   "metadata": {},
   "outputs": [
    {
     "data": {
      "image/png": "[encoded data removed]",
      "text/latex": [
       "$$z = x$$"
      ],
      "text/plain": [
       "z = x"
      ]
     },
     "metadata": {},
     "output_type": "display_data"
    }
   ],
   "source": [
    "x, z = symbols(\"x z\")\n",
    "display(Eq(z, x))"
   ]
  },
  {
   "cell_type": "markdown",
   "metadata": {},
   "source": [
    "**Sympy overloads standard python operators so that arithmetic and logical expressions can be constructed directly between symbolic objects.**"
   ]
  },
  {
   "cell_type": "code",
   "execution_count": 23,
   "metadata": {},
   "outputs": [
    {
     "data": {
      "image/png": "[encoded data removed]",
      "text/latex": [
       "$$\\left [ x^{2}, \\quad x - y, \\quad x \\neq y, \\quad y \\wedge z \\wedge \\neg x\\right ]$$"
      ],
      "text/plain": [
       "⎡ 2                          ⎤\n",
       "⎣x , x - y, x ≠ y, y ∧ z ∧ ¬x⎦"
      ]
     },
     "metadata": {},
     "output_type": "display_data"
    }
   ],
   "source": [
    "x, y, z = symbols(\"x y z\")\n",
    "# display([x**2, x - y, Ne(x, y), (~x & y & z)])\n",
    "\n",
    "\n",
    "\n",
    "display([x**2, x-y, Ne(x, y), (~x & y & z )])"
   ]
  },
  {
   "cell_type": "markdown",
   "metadata": {},
   "source": [
    "## Example 3: Symbolic substitution and expression evaluation\n",
    "\n",
    "**Given an original expression...**"
   ]
  },
  {
   "cell_type": "code",
   "execution_count": 27,
   "metadata": {},
   "outputs": [
    {
     "data": {
      "image/png": "[encoded data removed]",
      "text/latex": [
       "$$x = y$$"
      ],
      "text/plain": [
       "x = y"
      ]
     },
     "metadata": {},
     "output_type": "display_data"
    }
   ],
   "source": [
    "x, y, z = symbols(\"x y z\")\n",
    "relation = Eq(x, y)\n",
    "display(relation)"
   ]
  },
  {
   "cell_type": "markdown",
   "metadata": {},
   "source": [
    "**Symbolic variables can be replaced by other variables, or by concrete values.** (Tip: use positional arguments in the `subs()` method to replace one symbol)"
   ]
  },
  {
   "cell_type": "code",
   "execution_count": 30,
   "metadata": {},
   "outputs": [
    {
     "data": {
      "image/png": "[encoded data removed]",
      "text/latex": [
       "$$z = x$$"
      ],
      "text/plain": [
       "z = x"
      ]
     },
     "metadata": {},
     "output_type": "display_data"
    }
   ],
   "source": [
    "display(relation.subs(x, z).subs(y, x))  # Use positional arguments to substitute a single symbol"
   ]
  },
  {
   "cell_type": "markdown",
   "metadata": {},
   "source": [
    "**But keep in mind that substitution returns a _copy_ of the expression -- it doesn't operate in-place.**  (Tip: as a result, you can use substitution on one expression bound to generic variables to generate new instances bound to specific variables.)\n",
    "\n",
    "Look at what happens when we bind new variables to our equality relation:"
   ]
  },
  {
   "cell_type": "code",
   "execution_count": 34,
   "metadata": {},
   "outputs": [
    {
     "data": {
      "image/png": "[encoded data removed]",
      "text/latex": [
       "$$\\left [ a_{0} = b_{0}, \\quad a_{1} = b_{1}, \\quad a_{2} = b_{2}, \\quad a_{3} = b_{3}, \\quad a_{4} = b_{4}\\right ]$$"
      ],
      "text/plain": [
       "[a₀ = b₀, a₁ = b₁, a₂ = b₂, a₃ = b₃, a₄ = b₄]"
      ]
     },
     "metadata": {},
     "output_type": "display_data"
    }
   ],
   "source": [
    "a = symbols(\"a:5\")\n",
    "b = symbols(\"b:5\")\n",
    "display([relation.subs({(x, _a), (y, _b)}) for (_a, _b) in zip(*(a, b))])"
   ]
  },
  {
   "cell_type": "markdown",
   "metadata": {},
   "source": [
    "**Symbol substitution returns an expression.** (Recall that Symbols _are_ expressions)."
   ]
  },
  {
   "cell_type": "code",
   "execution_count": 32,
   "metadata": {},
   "outputs": [
    {
     "name": "stdout",
     "output_type": "stream",
     "text": [
      "(<class 'sympy.core.relational.Equality'>, <class 'sympy.core.relational.Equality'>)\n",
      "True\n"
     ]
    }
   ],
   "source": [
    "print(type(relation), type(relation.subs(x, z)))\n",
    "print(type(relation) == type(relation.subs(x, z)))"
   ]
  },
  {
   "cell_type": "markdown",
   "metadata": {},
   "source": [
    "**But substituting values for all symbols returns a value type.** (Tip: You can substitute multiple symbols in the `subs()` command by providing a mapping (dict) from current symbols to new symbols or values.)"
   ]
  },
  {
   "cell_type": "code",
   "execution_count": 35,
   "metadata": {},
   "outputs": [
    {
     "name": "stdout",
     "output_type": "stream",
     "text": [
      "(<class 'sympy.core.relational.Equality'>, <class 'sympy.logic.boolalg.BooleanFalse'>)\n",
      "True\n"
     ]
    }
   ],
   "source": [
    "print(type(relation), type(relation.subs({x: 0, y: 1})))\n",
    "print(type(relation) != type(relation.subs({x: 0, y: 1})))"
   ]
  },
  {
   "cell_type": "markdown",
   "metadata": {},
   "source": [
    "## Example 4: Constraints\n",
    "\n",
    "**Constraints are a construct of this lab exercise (not part of sympy) that combine symbolic Functions with Expressions for evaluation. The `constraint()` function (defined in the `util` module) takes a name and an expression and returns a \"named expression\" -- a constraint.**"
   ]
  },
  {
   "cell_type": "code",
   "execution_count": 38,
   "metadata": {},
   "outputs": [
    {
     "data": {
      "image/png": "[encoded data removed]",
      "text/latex": [
       "$$\\operatorname{SameAs}{\\left (x,y \\right )}$$"
      ],
      "text/plain": [
       "SameAs(x, y)"
      ]
     },
     "metadata": {},
     "output_type": "display_data"
    }
   ],
   "source": [
    "x, y = symbols(['x', 'y'])\n",
    "sameAs = constraint(\"SameAs\", Eq(x, y))\n",
    "display(sameAs)"
   ]
  },
  {
   "cell_type": "markdown",
   "metadata": {},
   "source": [
    "**Constraints are evaluated using the .subs method, just like an expression. If the resulting\n",
    "expression has unbound (free) symbols, then the result is a new constraint.**"
   ]
  },
  {
   "cell_type": "code",
   "execution_count": 40,
   "metadata": {},
   "outputs": [
    {
     "data": {
      "image/png": "[encoded data removed]",
      "text/latex": [
       "$$\\operatorname{SameAs}{\\left (y \\right )}$$"
      ],
      "text/plain": [
       "SameAs(y)"
      ]
     },
     "metadata": {},
     "output_type": "display_data"
    },
    {
     "data": {
      "text/plain": [
       "SameAs"
      ]
     },
     "metadata": {},
     "output_type": "display_data"
    }
   ],
   "source": [
    "display(sameAs.subs(x, 1), type(sameAs.subs(x, 0)))"
   ]
  },
  {
   "cell_type": "markdown",
   "metadata": {},
   "source": [
    "**If the resulting expression has no free symbols, then the result is only the evaluated expression.**"
   ]
  },
  {
   "cell_type": "code",
   "execution_count": 41,
   "metadata": {},
   "outputs": [
    {
     "data": {
      "image/png": "[encoded data removed]",
      "text/latex": [
       "$$\\mathrm{True}$$"
      ],
      "text/plain": [
       "True"
      ]
     },
     "metadata": {},
     "output_type": "display_data"
    },
    {
     "data": {
      "text/plain": [
       "sympy.logic.boolalg.BooleanTrue"
      ]
     },
     "metadata": {},
     "output_type": "display_data"
    }
   ],
   "source": [
    "display(sameAs.subs({x: 0, y: 0}), type(sameAs.subs({x: 0, y: 0})))"
   ]
  },
  {
   "cell_type": "markdown",
   "metadata": {},
   "source": [
    "## SymPy Exercises\n",
    "Complete the following exercises to check your understanding of sympy symbols, expressions, and constraints:"
   ]
  },
  {
   "cell_type": "markdown",
   "metadata": {},
   "source": [
    "**Question 1:** Create an array of subscripted symbols A0, A1, A2 stored in a variable named `A`"
   ]
  },
  {
   "cell_type": "code",
   "execution_count": 52,
   "metadata": {},
   "outputs": [
    {
     "name": "stdout",
     "output_type": "stream",
     "text": [
      "All tests passed!\n"
     ]
    }
   ],
   "source": [
    "A = None\n",
    "A = symbols('A:3')\n",
    "# test for completion\n",
    "assert(len(A) == 3)\n",
    "assert(all([type(v) == Symbol for v in A]))\n",
    "print(\"All tests passed!\")"
   ]
  },
  {
   "cell_type": "markdown",
   "metadata": {},
   "source": [
    "**Question 2:** Create an expression E with two generic symbols (e.g., \"a\" and \"b\", etc.) that represents logical XOR"
   ]
  },
  {
   "cell_type": "code",
   "execution_count": 53,
   "metadata": {},
   "outputs": [
    {
     "name": "stdout",
     "output_type": "stream",
     "text": [
      "All tests passed!\n"
     ]
    }
   ],
   "source": [
    "E = None\n",
    "a, b = symbols('a b')\n",
    "E = constraint('E', Xor(a, b))\n",
    "# test for completion\n",
    "_vars = E.free_symbols\n",
    "assert(len(_vars) == 2)\n",
    "xor_table = {(0, 0): False, (0, 1): True, (1, 0): True, (1, 1): False}\n",
    "assert(all(E.subs(zip(_vars, vals)) == truth for vals, truth in xor_table.items()))\n",
    "print(\"All tests passed!\")"
   ]
  },
  {
   "cell_type": "markdown",
   "metadata": {},
   "source": [
    "**Question 3:** Create a constraint MaxAbsDiff with three generic arguments to test abs(a - b) < c, and create a copy of the constraint such that it tests abs(A[0] - A[1]) < A[2] from Q1"
   ]
  },
  {
   "cell_type": "code",
   "execution_count": 54,
   "metadata": {},
   "outputs": [
    {
     "name": "stdout",
     "output_type": "stream",
     "text": [
      "All tests passed!\n"
     ]
    }
   ],
   "source": [
    "maxAbsDiff = None  \n",
    "maxAbsDiff_copy = None\n",
    "a, b, c = symbols('a b c')\n",
    "maxAbsDiff = constraint('maxAbsDiff', abs(a - b) < c)\n",
    "maxAbsDiff_copy = maxAbsDiff.subs({(a, A[0]), (b, A[1]), (c, A[2])})\n",
    "\n",
    "# test for completion\n",
    "assert(maxAbsDiff.free_symbols != maxAbsDiff_copy.free_symbols)\n",
    "assert(len(maxAbsDiff_copy.free_symbols) == len(maxAbsDiff_copy.args))\n",
    "inputs = {(0, 6, 7): True, (6, 0, 7): True, (7, 6, 0): False}\n",
    "assert(all(maxAbsDiff_copy.subs(zip(A[:3], vals)) == truth for vals, truth in inputs.items()))\n",
    "print(\"All tests passed!\")"
   ]
  },
  {
   "cell_type": "markdown",
   "metadata": {},
   "source": [
    "**(Optional) Question 4:** Create a constraint AllDiff accepting the symbols in A as arguments, returning True if they are all different, and False if any pair is the same"
   ]
  },
  {
   "cell_type": "code",
   "execution_count": 56,
   "metadata": {},
   "outputs": [
    {
     "name": "stdout",
     "output_type": "stream",
     "text": [
      "All tests passed!\n"
     ]
    }
   ],
   "source": [
    "allDiff = None\n",
    "allDiff = constraint('AllDiff', Ne(A[0], A[1]) & Ne(A[2], A[1]) & Ne(A[0], A[2]))\n",
    "inputs = (([0, 1, 2], True), ([1, 1, 1], False), ([0, 1, 1], False))\n",
    "assert(all(allDiff.subs(zip(A, vals)) == truth for vals, truth in inputs))\n",
    "print(\"All tests passed!\")"
   ]
  },
  {
   "cell_type": "code",
   "execution_count": 57,
   "metadata": {},
   "outputs": [
    {
     "name": "stdout",
     "output_type": "stream",
     "text": [
      "yeah\n"
     ]
    }
   ],
   "source": [
    "print('yeah')"
   ]
  },
  {
   "cell_type": "code",
   "execution_count": null,
   "metadata": {},
   "outputs": [],
   "source": []
  }
 ],
 "metadata": {
  "anaconda-cloud": {},
  "kernelspec": {
   "display_name": "Python 2",
   "language": "python",
   "name": "python2"
  },
  "language_info": {
   "codemirror_mode": {
    "name": "ipython",
    "version": 2
   },
   "file_extension": ".py",
   "mimetype": "text/x-python",
   "name": "python",
   "nbconvert_exporter": "python",
   "pygments_lexer": "ipython2",
   "version": "2.7.12"
  }
 },
 "nbformat": 4,
 "nbformat_minor": 1
}
